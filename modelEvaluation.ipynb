{
 "cells": [
  {
   "cell_type": "code",
   "execution_count": 48,
   "id": "40b0e2fc",
   "metadata": {},
   "outputs": [],
   "source": [
    "import numpy as np \n",
    "import pandas as pd \n",
    "import matplotlib.pyplot as plt"
   ]
  },
  {
   "cell_type": "code",
   "execution_count": 49,
   "id": "ab29d00b",
   "metadata": {},
   "outputs": [],
   "source": [
    "# Importing this data in current jupyter notebook\n",
    "dataset = pd.read_csv('train.csv')"
   ]
  },
  {
   "cell_type": "code",
   "execution_count": 51,
   "id": "109b6f58",
   "metadata": {},
   "outputs": [],
   "source": [
    "# spliting the data \n",
    "X_dev = dataset.head(1001)\n",
    "Y_dev = X_dev \n",
    "\n",
    "X_train = dataset.tail(40999)\n",
    "Y_train = X_train \n"
   ]
  },
  {
   "cell_type": "markdown",
   "id": "89d54c57",
   "metadata": {},
   "source": [
    "# Part 1: Neural Network Implementation:"
   ]
  },
  {
   "cell_type": "code",
   "execution_count": 35,
   "id": "08cd9981",
   "metadata": {},
   "outputs": [],
   "source": [
    "def init_params(layer1,layer2):\n",
    "    dict1 = {\n",
    "        \"w\": np.random.rand(layer2,layer1 )  ,\n",
    "        \"b\":np.random.rand(layer2,1)\n",
    "    }\n",
    "    return dict1 \n",
    "layers = [784,120,45,10] \n",
    "\n",
    "weights = {}   # Variable of type dictionary to store matrices of different layers \n",
    "bias = {}  # Variable of type dictionary to store bias terms of different layers \n",
    "for i in range(1,len(layers)):\n",
    "    \n",
    "    # Intialise the weights and storing them into Dictionary named weights with range 0 to 1 of parameters \n",
    "    weights[f'W{i}'] = np.random.rand(layers[i],layers[i-1])\n",
    "    \n",
    "    # Intialise the bias and storing them into Dictionary named bias with range 0 to 1 of parameters \n",
    "    bias[f'B{i}'] = np.random.rand(layers[i],1)\n"
   ]
  },
  {
   "cell_type": "code",
   "execution_count": 36,
   "id": "447f9c9a",
   "metadata": {},
   "outputs": [],
   "source": [
    "def ReLU(Z):\n",
    "    return np.maximum(0,Z)"
   ]
  },
  {
   "cell_type": "code",
   "execution_count": 37,
   "id": "87fbf52d",
   "metadata": {},
   "outputs": [],
   "source": [
    "def Softmax(Z):\n",
    "    exp_Z = np.exp(Z)\n",
    "    sum = np.sum(exp_Z)\n",
    "    return exp_Z/sum"
   ]
  },
  {
   "cell_type": "code",
   "execution_count": 38,
   "id": "cedbdc04",
   "metadata": {},
   "outputs": [],
   "source": [
    "def forward_propagation(X,weights,bias):\n",
    "    result = {\n",
    "        \"Z1\": np.dot(weights[f'W{1}'],X) + bias[f'B{1}'] ,\n",
    "        \"A1\":ReLU(result[f'Z{1}']) ,\n",
    "        \"Z2\": np.dot(weights[f'W{2}'],result[f'A{1}']) + bias[f'B{2}'] ,\n",
    "        \"A2\":ReLU(result[f'Z{2}']) ,\n",
    "        \"Z3\": np.dot(weights[f'W{3}'],result[f'A{2}']) + bias[f'B{3}'] ,\n",
    "        \"A3\":ReLU(result[f'Z{3}']) ,\n",
    "    }    \n",
    "    return result  "
   ]
  },
  {
   "cell_type": "code",
   "execution_count": 39,
   "id": "df78fa0c",
   "metadata": {},
   "outputs": [],
   "source": [
    "def one_hot(Y):\n",
    "    l = len(Y)\n",
    "    classes = np.max(Y) +1 \n",
    "    matrix = np.zeros((classes,l),dtype =int)\n",
    "    for i in range(0,l):\n",
    "        matrix[Y[i]][i] = 1 \n",
    "    return matrix.T \n",
    "        "
   ]
  },
  {
   "cell_type": "markdown",
   "id": "ff181614",
   "metadata": {},
   "source": [
    "# Part 2: Backward Propagation and Model Training:"
   ]
  },
  {
   "cell_type": "code",
   "execution_count": 40,
   "id": "288f5cbe",
   "metadata": {},
   "outputs": [],
   "source": [
    "def backward_propagation(Z1, A1, Z2, A2, Z3, A3, W1, W2, W3, X, Y):\n",
    "    m= X.shape()\n",
    "    result ={\n",
    "        \n",
    "        \"dZ3\" : A3 - Y ,\n",
    "        \"dW3\" : (1 / m) * np.dot(dZ3, A2.T),\n",
    "        \"db3\" : (1 / m) * np.sum(dZ3, axis=1, keepdims=True),\n",
    "    \n",
    "        \"dA2\" : np.dot(W3.T, dZ3),\n",
    "        \"dZ2\" : dA2 * (1 - np.power(A2, 2)),\n",
    "        \"dW2\" : (1 / m) * np.dot(dZ2, A1.T),\n",
    "        \"db2\" : (1 / m) * np.sum(dZ2, axis=1, keepdims=True),\n",
    "\n",
    "        \"dA1\" : np.dot(W2.T, dZ2),\n",
    "        \"dZ1\": dA1 * (1 - np.power(A1, 2)),\n",
    "        \"dW1\" : (1 / m) * np.dot(dZ1, X.T),\n",
    "        \"db1\" : (1 / m) * np.sum(dZ1, axis=1, keepdims=True),\n",
    "    }\n",
    "    \n",
    "    return result \n"
   ]
  },
  {
   "cell_type": "code",
   "execution_count": 41,
   "id": "a3eaba86",
   "metadata": {},
   "outputs": [],
   "source": [
    "def update_params(W1, b1, W2, b2,W3,b3,dW1, db1, dW2, db2, dW3, db3,alpha):\n",
    "    result={\n",
    "        \"W1\": W1 -aplha*dW1,\n",
    "        \"W2\": W2 -aplha*dW2,\n",
    "        \"W3\": W3 -aplha*dW3,\n",
    "        \"b1\": b1 -alpha*db1,\n",
    "        \"b2\": b2 -alpha*db2,\n",
    "        \"b3\": b3 -alpha*db3\n",
    "    }\n",
    "    return result "
   ]
  },
  {
   "cell_type": "code",
   "execution_count": 42,
   "id": "f07d2789",
   "metadata": {},
   "outputs": [],
   "source": [
    "def get_prediction(A3):\n",
    "    A3_index = np.argmax(A3,axis=0)\n",
    "    return A3_index \n",
    "\n",
    "def get_accuracy(predicted_labels,Y):\n",
    "    correct = np.sum(predicted_labels == Y) # Or directly from np.mean\n",
    "    accuracy = (correct / Y.size) * 100\n",
    "    return accuracy\n",
    "\n",
    "def print_labels(predicted_labels, Y):\n",
    "    print(\"predicted_labels:\",end=\"\")\n",
    "    print(predicted_labels)\n",
    "\n",
    "    print(\"Y\",end=\"\")\n",
    "    print(Y)\n"
   ]
  },
  {
   "cell_type": "code",
   "execution_count": 43,
   "id": "60df66ec",
   "metadata": {},
   "outputs": [],
   "source": [
    "def Softmax(Z):\n",
    "    exp_Z = np.exp(Z)\n",
    "    sum = np.sum(exp_Z)\n",
    "    return exp_Z/sum\n",
    "\n",
    "def gradient_descent(X_train,Y_train,alpha,iterations ):\n",
    "    \n",
    "    # Take random weight and bias term \n",
    "    W = np.random.rand(len(X_train),len(X_train))\n",
    "    b = np.random.rand(len(X_train),1)\n",
    "    \n",
    "    m = X_train.shape[0]\n",
    "    for i in range(iterations):\n",
    "        # Forwad propagation (helps in backward propagation)\n",
    "        Z = np.dot(W.T,X_train) + b \n",
    "        a = softmax(Z)\n",
    "    \n",
    "        # Backward propagation calculation\n",
    "        dZ = a - Y_train \n",
    "        dW = np.dot(X_train.T, dZ)/m\n",
    "        db = np.sum(dZ, axis=0)/m\n",
    "        \n",
    "        # Update \n",
    "        W = W -alpha*dW\n",
    "        b = b -alpha*db\n",
    "        \n",
    "        if i%10 ==0:\n",
    "            accuracy = np.mean(a==Y_train)\n",
    "            print(f\"The Accuracy after {i}th itration is {accuracy}\")\n",
    "            print(a)\n",
    "            \n",
    "    return W,b\n",
    "    \n",
    "    "
   ]
  },
  {
   "cell_type": "markdown",
   "id": "8fcb3954",
   "metadata": {},
   "source": [
    "# Part 3: Model Evaluation:"
   ]
  },
  {
   "cell_type": "code",
   "execution_count": 46,
   "id": "4f05487b",
   "metadata": {},
   "outputs": [],
   "source": [
    "def make_predictions(X,W1, b1, W2, b2):\n",
    "    weights = {\n",
    "        \"W1\" : W1 ,\n",
    "        \"W2\" : W2\n",
    "    }\n",
    "    bias = {\n",
    "        \"B1\" : b1 ,\n",
    "        \"B2\" : b2\n",
    "    }\n",
    "    predictions = forward_propagation(X,weights,bias)\n",
    "    return predictions"
   ]
  },
  {
   "cell_type": "code",
   "execution_count": 47,
   "id": "2809e760",
   "metadata": {},
   "outputs": [],
   "source": [
    "def test_prediction(index, X, Y, W1, b1, W2, b2):\n",
    "    prediction = make_predictions(X[index], W1, b1, W2, b2)\n",
    "    true_label = Y[index]\n",
    "    \n",
    "    plt.imshow(X[index].reshape(28, 28), cmap='gray')\n",
    "    plt.axis('off')\n",
    "    plt.title(f\"Prediction: {prediction}, True Label: {true_label}\")\n",
    "    plt.show()\n",
    "    \n",
    "    return prediction, true_label"
   ]
  },
  {
   "cell_type": "code",
   "execution_count": null,
   "id": "15870fb4",
   "metadata": {},
   "outputs": [],
   "source": []
  }
 ],
 "metadata": {
  "kernelspec": {
   "display_name": "Python 3 (ipykernel)",
   "language": "python",
   "name": "python3"
  },
  "language_info": {
   "codemirror_mode": {
    "name": "ipython",
    "version": 3
   },
   "file_extension": ".py",
   "mimetype": "text/x-python",
   "name": "python",
   "nbconvert_exporter": "python",
   "pygments_lexer": "ipython3",
   "version": "3.11.3"
  }
 },
 "nbformat": 4,
 "nbformat_minor": 5
}
