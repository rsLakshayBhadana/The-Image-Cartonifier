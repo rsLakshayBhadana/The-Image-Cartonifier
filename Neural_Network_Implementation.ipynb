{
 "cells": [
  {
   "cell_type": "code",
   "execution_count": 13,
   "id": "41b86d1a",
   "metadata": {},
   "outputs": [],
   "source": [
    "import numpy as np \n",
    "import pandas as pd "
   ]
  },
  {
   "cell_type": "code",
   "execution_count": 21,
   "id": "5b760f8c",
   "metadata": {},
   "outputs": [
    {
     "data": {
      "text/plain": [
       "array([[0.4106084 , 0.71338505, 0.97190016, ..., 0.66906677, 0.97430967,\n",
       "        0.60732852],\n",
       "       [0.96451861, 0.61818997, 0.07077249, ..., 0.13506295, 0.23878315,\n",
       "        0.88073712],\n",
       "       [0.68477596, 0.47364042, 0.75733624, ..., 0.06350075, 0.11013817,\n",
       "        0.08587595],\n",
       "       ...,\n",
       "       [0.50452035, 0.45312367, 0.98119282, ..., 0.33347947, 0.930808  ,\n",
       "        0.15752909],\n",
       "       [0.15719209, 0.42203966, 0.38652393, ..., 0.35682837, 0.75546208,\n",
       "        0.3384456 ],\n",
       "       [0.68015753, 0.8107949 , 0.0094281 , ..., 0.89279907, 0.94990717,\n",
       "        0.43639161]])"
      ]
     },
     "execution_count": 21,
     "metadata": {},
     "output_type": "execute_result"
    }
   ],
   "source": [
    "def init_params(layer1,layer2):\n",
    "    dict1 = {\n",
    "        \"w\": np.random.rand(layer2,layer1 )  ,\n",
    "        \"b\":np.random.rand(layer2,1)\n",
    "    }\n",
    "    return dict1 \n",
    "layers = [784,120,45,10] \n",
    "\n",
    "weights = {}   # Variable of type dictionary to store matrices of different layers \n",
    "bias = {}  # Variable of type dictionary to store bias terms of different layers \n",
    "for i in range(1,len(layers)):\n",
    "    \n",
    "    # Intialise the weights and storing them into Dictionary named weights with range 0 to 1 of parameters \n",
    "    weights[f'W{i}'] = np.random.rand(layers[i],layers[i-1])\n",
    "    \n",
    "    # Intialise the bias and storing them into Dictionary named bias with range 0 to 1 of parameters \n",
    "    bias[f'B{i}'] = np.random.rand(layers[i],1)\n",
    "\n",
    "weights[f'W{1}']"
   ]
  },
  {
   "cell_type": "code",
   "execution_count": 15,
   "id": "ed469c27",
   "metadata": {},
   "outputs": [],
   "source": [
    "def ReLU(Z):\n",
    "    return np.maximum(0,Z)"
   ]
  },
  {
   "cell_type": "code",
   "execution_count": 16,
   "id": "41b7d8d0",
   "metadata": {},
   "outputs": [],
   "source": [
    "def Softmax(Z):\n",
    "    exp_Z = np.exp(Z)\n",
    "    sum = np.sum(exp_Z)\n",
    "    return exp_Z/sum"
   ]
  },
  {
   "cell_type": "code",
   "execution_count": 3,
   "id": "ec343801",
   "metadata": {},
   "outputs": [],
   "source": [
    "def forward_propagation(X,weights,bias):\n",
    "    result = {\n",
    "        \"Z1\": np.dot(weights[f'W{1}'],X) + bias[f'B{1}']\n",
    "        \"A1\":ReLU(result[f'Z{1}'])\n",
    "        \"Z2\": np.dot(weights[f'W{2}'],result[f'A{1}']) + bias[f'B{2}']\n",
    "        \"A2\":ReLU(result[f'Z{2}'])\n",
    "        \"Z3\": np.dot(weights[f'W{3}'],result[f'A{2}']) + bias[f'B{3}']\n",
    "        \"A3\":ReLU(result[f'Z{3}'])\n",
    "    }    \n",
    "    return result "
   ]
  },
  {
   "cell_type": "code",
   "execution_count": 4,
   "id": "436ab8b4",
   "metadata": {},
   "outputs": [],
   "source": [
    "def one_hot(Y):\n",
    "    l = len(Y)\n",
    "    classes = np.max(Y) +1 \n",
    "    matrix = np.zeros((classes,l),dtype =int)\n",
    "    for i in range(0,l):\n",
    "        matrix[Y[i]][i] = 1 \n",
    "    return matrix.T \n",
    "        "
   ]
  },
  {
   "cell_type": "code",
   "execution_count": null,
   "id": "1972222c",
   "metadata": {},
   "outputs": [],
   "source": []
  }
 ],
 "metadata": {
  "kernelspec": {
   "display_name": "Python 3 (ipykernel)",
   "language": "python",
   "name": "python3"
  },
  "language_info": {
   "codemirror_mode": {
    "name": "ipython",
    "version": 3
   },
   "file_extension": ".py",
   "mimetype": "text/x-python",
   "name": "python",
   "nbconvert_exporter": "python",
   "pygments_lexer": "ipython3",
   "version": "3.11.3"
  }
 },
 "nbformat": 4,
 "nbformat_minor": 5
}
