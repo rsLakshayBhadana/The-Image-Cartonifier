{
 "cells": [
  {
   "cell_type": "code",
   "execution_count": 1,
   "id": "aa3cb352",
   "metadata": {},
   "outputs": [],
   "source": [
    "import numpy as np \n",
    "import pandas as pd "
   ]
  },
  {
   "cell_type": "code",
   "execution_count": 4,
   "id": "c220abc2",
   "metadata": {},
   "outputs": [],
   "source": [
    "def backward_propagation(Z1, A1, Z2, A2, Z3, A3, W1, W2, W3, X, Y):\n",
    "    m= X.shape()\n",
    "    result ={\n",
    "        \n",
    "        \"dZ3\" : A3 - Y ,\n",
    "        \"dW3\" : (1 / m) * np.dot(dZ3, A2.T),\n",
    "        \"db3\" : (1 / m) * np.sum(dZ3, axis=1, keepdims=True),\n",
    "    \n",
    "        \"dA2\" : np.dot(W3.T, dZ3),\n",
    "        \"dZ2\" : dA2 * (1 - np.power(A2, 2)),\n",
    "        \"dW2\" : (1 / m) * np.dot(dZ2, A1.T),\n",
    "        \"db2\" : (1 / m) * np.sum(dZ2, axis=1, keepdims=True),\n",
    "\n",
    "        \"dA1\" : np.dot(W2.T, dZ2),\n",
    "        \"dZ1\": dA1 * (1 - np.power(A1, 2)),\n",
    "        \"dW1\" : (1 / m) * np.dot(dZ1, X.T),\n",
    "        \"db1\" : (1 / m) * np.sum(dZ1, axis=1, keepdims=True),\n",
    "    }\n",
    "    \n",
    "    return result \n"
   ]
  },
  {
   "cell_type": "code",
   "execution_count": 8,
   "id": "a71bceff",
   "metadata": {},
   "outputs": [],
   "source": [
    "def update_params(W1, b1, W2, b2,W3,b3,dW1, db1, dW2, db2, dW3, db3,alpha):\n",
    "    result={\n",
    "        \"W1\": W1 -aplha*dW1,\n",
    "        \"W2\": W2 -aplha*dW2,\n",
    "        \"W3\": W3 -aplha*dW3,\n",
    "        \"b1\": b1 -alpha*db1,\n",
    "        \"b2\": b2 -alpha*db2,\n",
    "        \"b3\": b3 -alpha*db3\n",
    "    }\n",
    "    return result \n",
    "    "
   ]
  },
  {
   "cell_type": "code",
   "execution_count": 20,
   "id": "61833d50",
   "metadata": {},
   "outputs": [],
   "source": [
    "def get_prediction(A3):\n",
    "    A3_index = np.argmax(A3,axis=0)\n",
    "    return A3_index \n",
    "\n",
    "def get_accuracy(predicted_labels,Y):\n",
    "    correct = np.sum(predicted_labels == Y) # Or directly from np.mean\n",
    "    accuracy = (correct / Y.size) * 100\n",
    "    return accuracy\n",
    "\n",
    "def print_labels(predicted_labels, Y):\n",
    "    print(\"predicted_labels:\",end=\"\")\n",
    "    print(predicted_labels)\n",
    "\n",
    "    print(\"Y\",end=\"\")\n",
    "    print(Y)\n"
   ]
  },
  {
   "cell_type": "code",
   "execution_count": 31,
   "id": "878efe18",
   "metadata": {},
   "outputs": [],
   "source": [
    "def Softmax(Z):\n",
    "    exp_Z = np.exp(Z)\n",
    "    sum = np.sum(exp_Z)\n",
    "    return exp_Z/sum\n",
    "\n",
    "def gradient_descent(X_train,Y_train,alpha,iterations ):\n",
    "    \n",
    "    # Take random weight and bias term \n",
    "    W = np.random.rand(len(X_train),len(X_train))\n",
    "    b = np.random.rand(len(X_train),1)\n",
    "    \n",
    "    m = X_train.shape[0]\n",
    "    for i in range(iterations):\n",
    "        # Forwad propagation (helps in backward propagation)\n",
    "        Z = np.dot(W.T,X_train) + b \n",
    "        a = softmax(Z)\n",
    "    \n",
    "        # Backward propagation calculation\n",
    "        dZ = a - Y_train \n",
    "        dW = np.dot(X_train.T, dZ)/m\n",
    "        db = np.sum(dZ, axis=0)/m\n",
    "        \n",
    "        # Update \n",
    "        W = W -alpha*dW\n",
    "        b = b -alpha*db\n",
    "        \n",
    "        if i%10 ==0:\n",
    "            accuracy = np.mean(a==Y_train)\n",
    "            print(f\"The Accuracy after {i}th itration is {accuracy}\")\n",
    "            print(a)\n",
    "            \n",
    "    return W,b\n",
    "    \n",
    "    "
   ]
  },
  {
   "cell_type": "markdown",
   "id": "8cd93ba1",
   "metadata": {},
   "source": [
    "# Part 3: Model Evaluation:"
   ]
  },
  {
   "cell_type": "code",
   "execution_count": null,
   "id": "229fe92c",
   "metadata": {},
   "outputs": [],
   "source": []
  }
 ],
 "metadata": {
  "kernelspec": {
   "display_name": "Python 3 (ipykernel)",
   "language": "python",
   "name": "python3"
  },
  "language_info": {
   "codemirror_mode": {
    "name": "ipython",
    "version": 3
   },
   "file_extension": ".py",
   "mimetype": "text/x-python",
   "name": "python",
   "nbconvert_exporter": "python",
   "pygments_lexer": "ipython3",
   "version": "3.11.3"
  }
 },
 "nbformat": 4,
 "nbformat_minor": 5
}
